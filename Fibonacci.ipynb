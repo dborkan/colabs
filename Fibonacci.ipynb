{
  "nbformat": 4,
  "nbformat_minor": 0,
  "metadata": {
    "colab": {
      "name": "Fibonacci",
      "version": "0.3.2",
      "provenance": [],
      "include_colab_link": true
    },
    "kernelspec": {
      "name": "python3",
      "display_name": "Python 3"
    }
  },
  "cells": [
    {
      "cell_type": "markdown",
      "metadata": {
        "id": "view-in-github",
        "colab_type": "text"
      },
      "source": [
        "<a href=\"https://colab.research.google.com/github/dborkan/colabs/blob/master/Fibonacci.ipynb\" target=\"_parent\"><img src=\"https://colab.research.google.com/assets/colab-badge.svg\" alt=\"Open In Colab\"/></a>"
      ]
    },
    {
      "cell_type": "markdown",
      "metadata": {
        "id": "N_vJ6311GRJQ",
        "colab_type": "text"
      },
      "source": [
        "The Fibonacci sequence is the sequence of numbers formed by starting with `0, 1` then continuously adding the previous numbers together, e.g. `0, 1, 1, 2, 3, 5, 8, 13, 21, 34, …`\n",
        "\n",
        "Write a function that returns True if a given number is part of the Fibonacci sequence."
      ]
    },
    {
      "cell_type": "code",
      "metadata": {
        "id": "M3ZfTe4yF-f-",
        "colab_type": "code",
        "colab": {}
      },
      "source": [
        "# Your code here"
      ],
      "execution_count": 0,
      "outputs": []
    }
  ]
}