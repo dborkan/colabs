{
  "nbformat": 4,
  "nbformat_minor": 0,
  "metadata": {
    "colab": {
      "name": "Fixing broken ids",
      "version": "0.3.2",
      "provenance": [],
      "collapsed_sections": [],
      "include_colab_link": true
    },
    "kernelspec": {
      "name": "python3",
      "display_name": "Python 3"
    }
  },
  "cells": [
    {
      "cell_type": "markdown",
      "metadata": {
        "id": "view-in-github",
        "colab_type": "text"
      },
      "source": [
        "<a href=\"https://colab.research.google.com/github/dborkan/colabs/blob/master/Fixing_broken_ids.ipynb\" target=\"_parent\"><img src=\"https://colab.research.google.com/assets/colab-badge.svg\" alt=\"Open In Colab\"/></a>"
      ]
    },
    {
      "cell_type": "code",
      "metadata": {
        "id": "qlPjrQLiQLsj",
        "colab_type": "code",
        "colab": {}
      },
      "source": [
        "import pandas as pd\n",
        "!wget https://storage.googleapis.com/furball_data/dborkan_experiments/broken_ids.csv\n",
        "df = pd.read_csv('broken_ids.csv')"
      ],
      "execution_count": 0,
      "outputs": []
    },
    {
      "cell_type": "markdown",
      "metadata": {
        "id": "C06SA262QqvA",
        "colab_type": "text"
      },
      "source": [
        "The variable `df` is a Pandas dataframe containing over 100k comments, along with their ratings and metadata fields.\n",
        "\n",
        "In this table there is an \"id\" column which we would like to contain a numeric id, and a \"source\" column which we would like to contain the source of this data (e.g. website name).\n",
        "\n",
        "Unfortunately this data has been poorly formatted and there are some errors.  All records from the source \"SourceB\", have the values in the \"id\" and \"source\" column swapped.\n",
        "\n",
        "Can you:\n",
        "1. Print all records that have the source and id swapped (i.e. records where the \"id\" column is set to \"SourceB\")?\n",
        "2. Fix these records by correcting the id and source swap?"
      ]
    },
    {
      "cell_type": "code",
      "metadata": {
        "id": "wILwtfg1Qm5l",
        "colab_type": "code",
        "colab": {}
      },
      "source": [
        "# your code here"
      ],
      "execution_count": 0,
      "outputs": []
    }
  ]
}